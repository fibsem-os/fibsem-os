{
 "cells": [
  {
   "cell_type": "markdown",
   "id": "d095f246",
   "metadata": {},
   "source": [
    "## Integrated FM Control"
   ]
  },
  {
   "cell_type": "code",
   "execution_count": null,
   "id": "de2cc634",
   "metadata": {},
   "outputs": [],
   "source": [
    "%load_ext autoreload\n",
    "%autoreload 2\n",
    "\n",
    "\n",
    "from fibsem import utils\n",
    "from dataclasses import dataclass, field\n",
    "\n",
    "microscope, settings = utils.setup_session()"
   ]
  },
  {
   "cell_type": "code",
   "execution_count": null,
   "id": "1cb22cb6",
   "metadata": {},
   "outputs": [],
   "source": [
    "# Controls\n",
    "# Light Source \n",
    "    # Power\n",
    "# Filter Wheel\n",
    "    # Excitation Wavelength\n",
    "    # Emission Wavelength\n",
    "# Objective Lens\n",
    "    # Magnification\n",
    "    # Position\n",
    "    # Move Relative\n",
    "    # Move Absolute\n",
    "# Camera\n",
    "    # Exposure Time\n",
    "    # Binning\n",
    "    # Gain\n",
    "    # Offset\n",
    "\n",
    "# Tasks\n",
    "# Acquire Image\n",
    "# Acquire Z-Stack\n",
    "# Acquire Overview\n",
    "# Move to Position\n",
    "# Save OME Metadata\n",
    "# Load OME Metadata\n",
    "\n",
    "# TODO:\n",
    "# - tests\n",
    "# \n"
   ]
  },
  {
   "cell_type": "code",
   "execution_count": null,
   "id": "fe5fd087",
   "metadata": {},
   "outputs": [],
   "source": [
    "import numpy as np\n",
    "\n",
    "import matplotlib.pyplot as plt\n",
    "from pprint import pprint\n",
    "\n",
    "from fibsem.fm.microscope import FluorescenceMicroscope\n",
    "from fibsem.fm.structures import ChannelSettings, ZParameters\n",
    "from fibsem.fm.acquisition import acquire_channels, acquire_z_stack, run_auto_focus\n",
    "\n",
    "# create microscope \n",
    "fm = FluorescenceMicroscope()\n",
    "# OME-standard -> Static instrument configuration vs dynamic image acquisition settings\n",
    "\n",
    "zparams = ZParameters(zmin=-10e-6, zmax=10e-6, zstep=1e-6)\n",
    "\n",
    "ch1 = ChannelSettings(\n",
    "    name=\"Channel-01\", \n",
    "    excitation_wavelength=488.0, \n",
    "    emission_wavelength=520.0, \n",
    "    power=100.0, \n",
    "    exposure_time=200.0, \n",
    ")\n",
    "ch2 = ChannelSettings(\n",
    "    name=\"Channel-02\", \n",
    "    excitation_wavelength=561.0, \n",
    "    emission_wavelength=None, \n",
    "    power=80.0, \n",
    "    exposure_time=150.0,\n",
    ")\n",
    "\n"
   ]
  },
  {
   "cell_type": "code",
   "execution_count": null,
   "id": "1ec3a317",
   "metadata": {},
   "outputs": [],
   "source": [
    "# acquire a single image\n",
    "image = fm.acquire_image(ch1)\n",
    "print(image.data.shape, image.data.dtype)\n",
    "print(f\"Acquired image with shape: {image.data.shape} and dtype: {image.data.dtype}\")\n",
    "pprint(image.metadata)\n",
    "plt.imshow(image.data, cmap='gray')\n",
    "plt.title(f\"Acquired Image - {ch1.name}\")\n",
    "plt.colorbar()\n",
    "plt.show()\n",
    "\n"
   ]
  },
  {
   "cell_type": "code",
   "execution_count": null,
   "id": "f3ffe21e",
   "metadata": {},
   "outputs": [],
   "source": [
    "# Acquire images for multiple channels\n",
    "images = acquire_channels(fm, [ch1, ch2])\n",
    "for idx, image in enumerate(images.data):\n",
    "    print(f\"Image {idx+1} Metadata:\")\n",
    "    md = images.metadata[idx]\n",
    "    pprint(md)\n",
    "    print(f\"Image {idx+1} Shape: {image.shape}, Dtype: {image.dtype}\")\n",
    "    # Optionally display the image\n",
    "    plt.imshow(image[0].data, cmap='gray')\n",
    "    plt.title(f\"Acquired Image - {md['objective']['magnification']}x\")\n",
    "    plt.colorbar()\n",
    "    plt.show()\n",
    "\n"
   ]
  },
  {
   "cell_type": "code",
   "execution_count": null,
   "id": "78c69048",
   "metadata": {},
   "outputs": [],
   "source": [
    "# Acquire Z-Stack\n",
    "\n",
    "fm.objective.move_absolute(0.0)  # Move objective to the starting position\n",
    "image = acquire_z_stack(fm, ch1, zparams)\n",
    "print(image.data.shape)\n",
    "md = image.metadata\n",
    "\n",
    "img: np.ndarray\n",
    "\n",
    "nc, nz, ny, nx = image.data.shape\n",
    "\n",
    "for idx in range(nc):\n",
    "    for zidx in range(nz):\n",
    "        img = image.data[idx, zidx, :, :]\n",
    "        print(f\"Z-Stack Image {zidx} Metadata:\")\n",
    "        # pprint(md[idx])\n",
    "        print(f\"Z-Stack Image {zidx} Shape: {img.shape}, Dtype: {img.dtype}\")\n",
    "        # Optionally display the image\n",
    "        plt.imshow(img, cmap='gray')\n",
    "        obj_pos = md[idx][\"objective-positions\"][zidx]\n",
    "        plt.title(f\"Z-Stack Image - Z Position: {obj_pos:.2e} microns\")\n",
    "        plt.colorbar()\n",
    "        plt.show()\n"
   ]
  },
  {
   "cell_type": "code",
   "execution_count": null,
   "id": "e2625ac7",
   "metadata": {},
   "outputs": [],
   "source": [
    "# Run autofocus\n",
    "fm.objective.move_absolute(0.0)  # Reset objective position to 0\n",
    "best_focus = run_auto_focus(fm, ch1)\n",
    "print(f\"Best focus position: {best_focus:.2e} microns\")"
   ]
  },
  {
   "cell_type": "markdown",
   "id": "3ebc3e00",
   "metadata": {},
   "source": [
    "## Odemis FM Control"
   ]
  },
  {
   "cell_type": "code",
   "execution_count": null,
   "id": "8bb8ce11",
   "metadata": {},
   "outputs": [],
   "source": [
    "%load_ext autoreload\n",
    "%autoreload 2\n",
    "\n",
    "import fibsem.fm.odemis as fm_odemis\n",
    "from odemis import model\n",
    "\n",
    "focuser = fm_odemis.model.getComponent(role=\"focus\")\n",
    "\n",
    "print(focuser.position.value)\n",
    "print(focuser.getMetadata())\n"
   ]
  },
  {
   "cell_type": "code",
   "execution_count": null,
   "id": "e4de8b07",
   "metadata": {},
   "outputs": [],
   "source": [
    "objective = fm_odemis.OdemisObjectiveLens(None)\n",
    "\n",
    "print(objective.position)\n",
    "print(objective.magnification)\n",
    "print(objective.numerical_aperture)"
   ]
  },
  {
   "cell_type": "code",
   "execution_count": null,
   "id": "e910b5b8",
   "metadata": {},
   "outputs": [],
   "source": [
    "objective.insert()\n",
    "print(objective.position)\n",
    "objective.retract()\n",
    "print(objective.position)"
   ]
  },
  {
   "cell_type": "code",
   "execution_count": null,
   "id": "dc62d8b7",
   "metadata": {},
   "outputs": [],
   "source": [
    "odemis_light_source = model.getComponent(role=\"light\")\n",
    "print(odemis_light_source.power.value)\n",
    "print(\"SPECTRA\")\n",
    "print(odemis_light_source.spectra.value) # 5D (99% low, 25% low, centre, 25%high 99% high) x wavelengths"
   ]
  },
  {
   "cell_type": "code",
   "execution_count": null,
   "id": "b1cb80a8",
   "metadata": {},
   "outputs": [],
   "source": [
    "fm = fm_odemis.OdemisFluorescenceMicroscope(None)\n",
    "\n",
    "# from fibsem.fm.microscope import FluorescenceMicroscope\n",
    "# fm = FluorescenceMicroscope()\n",
    "\n",
    "# set filter wheel\n",
    "fm.filter_set.emission_wavelength = 488\n",
    "print(fm.filter_set.emission_wavelength)\n",
    "\n",
    "# reflection mode\n",
    "fm.filter_set.emission_wavelength = None\n",
    "print(fm.filter_set.emission_wavelength)"
   ]
  },
  {
   "cell_type": "code",
   "execution_count": null,
   "id": "92a4b72d",
   "metadata": {},
   "outputs": [],
   "source": [
    "from fibsem.fm.structures import ChannelSettings\n",
    "from pprint import pprint\n",
    "\n",
    "fm.objective.insert()\n",
    "\n",
    "ch = ChannelSettings(name=\"channel-01\", \n",
    "                     excitation_wavelength=405, \n",
    "                     emission_wavelength=None, \n",
    "                     exposure_time=0.5, \n",
    "                     power=0.5, # W \n",
    "                    )\n",
    "\n",
    "# fm.set_binning(2)\n",
    "# fm.set_power(0.3)\n",
    "\n",
    "image = fm.acquire_image(ch)\n",
    "\n",
    "pprint(image.data.shape)\n",
    "pprint(image.metadata)"
   ]
  },
  {
   "cell_type": "code",
   "execution_count": null,
   "id": "90c60a88",
   "metadata": {},
   "outputs": [],
   "source": [
    "%matplotlib inline\n",
    "\n",
    "import matplotlib.pyplot as plt\n",
    "from pprint import pprint\n",
    "plt.imshow(image.data, cmap=\"gray\")\n",
    "plt.show()\n",
    "\n",
    "\n",
    "print(image.data.shape)\n",
    "pprint(image.metadata)\n",
    "pprint(fm.get_metadata())"
   ]
  },
  {
   "cell_type": "code",
   "execution_count": null,
   "id": "fbc3b849",
   "metadata": {},
   "outputs": [],
   "source": [
    "from fibsem.fm.acquisition import acquire_channels, acquire_z_stack, run_auto_focus\n",
    "from fibsem.fm.structures import ZParameters\n",
    "zparams = ZParameters(zmin=-5e-6, zmax=5e-6, zstep=1e-6)\n",
    "\n",
    "fm.objective.insert()\n",
    "image = acquire_z_stack(fm, ch, zparams)\n",
    "\n",
    "print(image.data.shape)\n",
    "pprint(image.metadata)\n"
   ]
  },
  {
   "cell_type": "code",
   "execution_count": null,
   "id": "5bfe6223",
   "metadata": {},
   "outputs": [],
   "source": [
    "ch1 = ChannelSettings(name=\"channel-01\", \n",
    "                     excitation_wavelength=405, \n",
    "                     emission_wavelength=None, \n",
    "                     exposure_time=0.5, \n",
    "                     power=0.5, # W \n",
    "                     )\n",
    "\n",
    "ch2 = ChannelSettings(name=\"channel-02\",\n",
    "                     excitation_wavelength=488, \n",
    "                     emission_wavelength=500,\n",
    "                     exposure_time=0.1, \n",
    "                     power=0.1, # W \n",
    "                     )\n",
    "\n",
    "multi_channel_settings = [ch1, ch2]\n",
    "channel_image = acquire_channels(fm, multi_channel_settings)\n",
    "\n",
    "print(channel_image.data.shape)\n",
    "for idx, img in enumerate(channel_image.data):\n",
    "    print(f\"Channel {idx+1} Image Shape: {img.shape}, Dtype: {img.dtype}\")\n",
    "    plt.imshow(img[0], cmap='gray')\n",
    "    plt.title(f\"Channel {idx+1} Image\")\n",
    "    plt.colorbar()\n",
    "    plt.show()\n",
    "\n",
    "filename = \"test-single-channel.ome.tiff\"\n",
    "channel_image.save(filename)\n",
    "\n",
    "from ome_types import from_tiff\n",
    "\n",
    "ome_metadata = from_tiff(filename)\n",
    "print(ome_metadata.to_xml())\n",
    "\n"
   ]
  },
  {
   "cell_type": "code",
   "execution_count": null,
   "id": "30911930",
   "metadata": {},
   "outputs": [],
   "source": [
    "# Acquire Z-Stack with multiple channels\n",
    "image = acquire_z_stack(fm, multi_channel_settings, zparams)\n",
    "\n",
    "print(image.data.shape)\n",
    "pprint(image.metadata)"
   ]
  },
  {
   "cell_type": "code",
   "execution_count": null,
   "id": "bc11889b",
   "metadata": {},
   "outputs": [],
   "source": [
    "\n",
    "from fibsem.fm.structures import FluorescenceImage\n",
    "import tifffile as tff\n",
    "import numpy as np\n",
    "from ome_types import to_xml, from_tiff\n",
    "\n",
    "filename = \"image.ome.tiff\"\n",
    "image.save(filename)\n",
    "\n",
    "ome = from_tiff(filename)\n",
    "print(to_xml(ome))\n",
    "tff.OmeXml.validate(to_xml(ome))  # Validate the OME XML from the TIFF file\n",
    "\n",
    "with tff.TiffReader(filename) as tif:\n",
    "\n",
    "    arr = tif.asarray()\n",
    "    print(arr.shape)  # Should be (C, Z, Y, X) for a multi-channel Z-stack\n",
    "    print(tif.ome_metadata)  # OME metadata in XML format\n",
    "\n",
    "for idx, img in enumerate(image.data):\n",
    "    print(f\"Z-Stack Image {idx+1} Metadata:\")\n",
    "    pprint(image.metadata[idx])\n",
    "    print(f\"Z-Stack Image {idx+1} Shape: {img.shape}, Dtype: {img.dtype}\")\n",
    "    # Optionally display the image\n",
    "    plt.imshow(np.amax(img, axis=0), cmap='gray')\n",
    "    plt.title(f\"Z-Stack Image - Z Position: {image.metadata[idx]['objective']['position']:.2e} microns\")\n",
    "    plt.colorbar()\n",
    "    plt.show()\n"
   ]
  },
  {
   "cell_type": "markdown",
   "id": "e3dcf7d1",
   "metadata": {},
   "source": [
    "## Live Acquisition"
   ]
  },
  {
   "cell_type": "code",
   "execution_count": null,
   "id": "0334f9bc",
   "metadata": {},
   "outputs": [],
   "source": [
    "%load_ext autoreload\n",
    "%autoreload 2\n",
    "%matplotlib inline\n",
    "\n",
    "import time\n",
    "from fibsem.fm.structures import FluorescenceImage\n",
    "from fibsem.fm.microscope import FluorescenceMicroscope\n",
    "# from fibsem.fm.odemis import OdemisFluorescenceMicroscope\n",
    "import matplotlib.pyplot as plt\n",
    "import logging\n",
    "logging.basicConfig(level=logging.DEBUG)\n",
    "# fm = OdemisFluorescenceMicroscope(None)\n",
    "fm = FluorescenceMicroscope()\n",
    "\n",
    "fm.set_exposure_time(0.5)\n",
    "\n",
    "def on_acquisition_signal(image: FluorescenceImage):\n",
    "    print(\"Acquisition signal received!\")\n",
    "    print(f\"Image shape: {image.data.shape}\")\n",
    "    print(f\"Acquisition Date: {image.metadata.acquisition_date}\")\n",
    "    print(f\"Channel Name: {image.metadata.channels[0].name}\")\n",
    "    print(f\"Excitation Power: {image.metadata.channels[0].power} W\")\n",
    "    print(f\"Exposure Time: {image.metadata.channels[0].exposure_time} s\")\n",
    "    print(f\"Excitation Wavelength: {image.metadata.channels[0].excitation_wavelength} nm\")\n",
    "    print(f\"Emission Wavelength: {image.metadata.channels[0].emission_wavelength} nm\")\n",
    "    print(f\"Objective Magnification: {image.metadata.channels[0].objective_magnification}x\")\n",
    "    print(f\"Objective Position: {image.metadata.channels[0].objective_position:.2e} m\")\n",
    "    print(f\"Image Data Type: {image.data.dtype}\")\n",
    "    print(\"-\"*80)\n",
    "    # plt.imshow(image.data, cmap='gray')\n",
    "    # plt.show()\n",
    "\n",
    "def on_acquisition_signal_second(image: FluorescenceImage):\n",
    "    print(\"Second acquisition signal received!\")\n",
    "    print(f\"-\"*80)\n",
    "\n",
    "\n",
    "fm.acquisition_signal.disconnect(on_acquisition_signal)\n",
    "# fm.acquisition_signal.disconnect(on_acquisition_signal_second)\n",
    "fm.acquisition_signal.connect(on_acquisition_signal)\n",
    "# fm.acquisition_signal.connect(on_acquisition_signal_second)\n"
   ]
  },
  {
   "cell_type": "code",
   "execution_count": null,
   "id": "3c817fdb",
   "metadata": {},
   "outputs": [],
   "source": [
    "# start the acquisition\n",
    "fm.start_acquisition()\n",
    "\n",
    "time.sleep(5)\n",
    "\n",
    "# stop acquisition\n",
    "fm.stop_acquisition()"
   ]
  },
  {
   "cell_type": "markdown",
   "id": "fb004a96",
   "metadata": {},
   "source": [
    "## FIBSEM Control"
   ]
  },
  {
   "cell_type": "code",
   "execution_count": null,
   "id": "b51c36aa",
   "metadata": {},
   "outputs": [],
   "source": [
    "%load_ext autoreload\n",
    "%autoreload 2\n",
    "\n",
    "from fibsem import utils\n",
    "# from fibsem.fm.odemis import OdemisFluorescenceMicroscope\n",
    "from fibsem.fm.microscope import FluorescenceMicroscope\n",
    "from fibsem.fm.structures import ChannelSettings, ZParameters, FluorescenceImage\n",
    "from fibsem.fm.acquisition import acquire_channels, acquire_z_stack, run_auto_focus\n",
    "from fibsem.structures import FibsemStagePosition\n",
    "import tifffile as tff\n",
    "from pprint import pprint\n",
    "\n",
    "microscope, settings = utils.setup_session()\n",
    "\n",
    "# fm = OdemisFluorescenceMicroscope(microscope)"
   ]
  },
  {
   "cell_type": "code",
   "execution_count": null,
   "id": "ba1fdd1b",
   "metadata": {},
   "outputs": [],
   "source": [
    "print(f\"Emission Wavelengths: {microscope.fm.filter_set.available_emission_wavelengths}\")\n",
    "print(f\"Excitation Wavelengths: {microscope.fm.filter_set.available_excitation_wavelengths}\")"
   ]
  },
  {
   "cell_type": "code",
   "execution_count": null,
   "id": "b82c3ed6",
   "metadata": {},
   "outputs": [],
   "source": [
    "stage_position = microscope.get_stage_position()\n",
    "print(f\"Stage Position: {stage_position}\")"
   ]
  },
  {
   "cell_type": "code",
   "execution_count": null,
   "id": "00105f94",
   "metadata": {},
   "outputs": [],
   "source": [
    "stage_positions = [\n",
    "    FibsemStagePosition(x=0, y=0, z=0, r=0, t=0, coordinate_system=\"RAW\"),\n",
    "    FibsemStagePosition(x=50e-6, y=0, z=0, r=0, t=0, coordinate_system=\"RAW\"),\n",
    "    FibsemStagePosition(x=0, y=50e-6, z=0, r=0, t=0, coordinate_system=\"RAW\"),\n",
    "]\n",
    "\n",
    "# acquire parameters\n",
    "channel_settings = [\n",
    "    ChannelSettings(\n",
    "    name=\"channel-01\",\n",
    "    excitation_wavelength=488,\n",
    "    emission_wavelength=None,\n",
    "    power=0.5,\n",
    "    exposure_time=0.1,\n",
    "),\n",
    "ChannelSettings(\n",
    "    name=\"channel-02\",\n",
    "    excitation_wavelength=561,\n",
    "    emission_wavelength=600,\n",
    "    power=0.5,\n",
    "    exposure_time=0.1,\n",
    ")]\n",
    "zparams = ZParameters(zmin=-5e-6,\n",
    "                      zmax=5e-6,\n",
    "                      zstep=2.5e-6)\n",
    "objective_position = -2.2e-3  # Example objective position in meters\n",
    "\n",
    "for stage_position in stage_positions:\n",
    "\n",
    "    # move to each position\n",
    "    microscope.move_stage_absolute(stage_position)\n",
    "    print(f\"Moved to stage position: {stage_position}\")\n",
    "\n",
    "    # move objective to position\n",
    "    microscope.fm.objective.move_absolute(objective_position)\n",
    "    print(f\"Moved objective to position: {microscope.fm.objective.position} m\")\n",
    "\n",
    "    # acquire z-stack\n",
    "    image = acquire_z_stack(microscope.fm, \n",
    "                            channel_settings=channel_settings, \n",
    "                            zparams=zparams)\n",
    "\n",
    "    # print(image.metadata)\n",
    "    filename = f\"z-stack-{stage_position.x:.2e}-{stage_position.y:.2e}.ome.tiff\"\n",
    "    image.save(filename)\n",
    "\n",
    "    img2 = FluorescenceImage.load(filename)\n",
    "    pprint(img2.metadata.to_dict())\n",
    "\n",
    "    print(f\"-\"*80)"
   ]
  },
  {
   "cell_type": "code",
   "execution_count": null,
   "id": "55f94d55",
   "metadata": {},
   "outputs": [],
   "source": [
    "%matplotlib inline\n",
    "from fibsem.structures import ImageSettings, BeamType\n",
    "import matplotlib.pyplot as plt\n",
    "\n",
    "idx = 0\n",
    "settings.image.beam_type = BeamType.ION\n",
    "\n",
    "while True:\n",
    "    # acquire image\n",
    "    fm_image = microscope.fm.acquire_image()\n",
    "\n",
    "    print(f\"Acquired image {idx+1} with shape: {fm_image.data.shape} and dtype: {fm_image.data.dtype}\")\n",
    "\n",
    "    fib_image = microscope.acquire_image(settings.image)\n",
    "    print(f\"Acquired fibsem image {idx+1} with shape: {fib_image.data.shape} and dtype: {fib_image.data.dtype}\")\n",
    "\n",
    "    fig, ax = plt.subplots(1, 2, figsize=(12, 6))\n",
    "\n",
    "    ax[0].imshow(fm_image.data, cmap='gray')\n",
    "    ax[0].set_title(f\"Fluorescence Image {idx+1}\")\n",
    "    ax[1].imshow(fib_image.data, cmap='gray')\n",
    "    ax[1].set_title(f\"Fibsem Image {idx+1}\")\n",
    "    plt.show()\n",
    "\n",
    "    idx += 1\n",
    "\n",
    "    if idx >= 5:  # Limit to 5 images for demonstration\n",
    "        break"
   ]
  },
  {
   "cell_type": "code",
   "execution_count": null,
   "id": "1b879dee",
   "metadata": {},
   "outputs": [],
   "source": [
    "microscope.move_stage_absolute(FibsemStagePosition(x=0, y=0, z=0, r=0, t=0, coordinate_system=\"RAW\"))\n",
    "microscope.move_flat_to_beam(BeamType.ION)"
   ]
  },
  {
   "cell_type": "code",
   "execution_count": null,
   "id": "c27a4a70",
   "metadata": {},
   "outputs": [],
   "source": [
    "print(microscope.get_stage_position())\n",
    "microscope.move_to_microscope(\"FM\")\n",
    "print(microscope.get_stage_orientation())\n",
    "print(microscope.get_stage_position())"
   ]
  },
  {
   "cell_type": "code",
   "execution_count": null,
   "id": "52518236",
   "metadata": {},
   "outputs": [],
   "source": [
    "print(microscope.get_stage_position())"
   ]
  },
  {
   "cell_type": "code",
   "execution_count": null,
   "id": "417cec05",
   "metadata": {},
   "outputs": [],
   "source": [
    "print(microscope.get_stage_position())\n",
    "microscope.move_to_microscope(\"FIBSEM\")\n",
    "print(microscope.get_stage_orientation())\n",
    "print(microscope.get_stage_position())\n"
   ]
  },
  {
   "cell_type": "code",
   "execution_count": null,
   "id": "efd68dd4",
   "metadata": {},
   "outputs": [],
   "source": []
  }
 ],
 "metadata": {
  "kernelspec": {
   "display_name": "fibsem",
   "language": "python",
   "name": "python3"
  },
  "language_info": {
   "codemirror_mode": {
    "name": "ipython",
    "version": 3
   },
   "file_extension": ".py",
   "mimetype": "text/x-python",
   "name": "python",
   "nbconvert_exporter": "python",
   "pygments_lexer": "ipython3",
   "version": "3.9.18"
  }
 },
 "nbformat": 4,
 "nbformat_minor": 5
}
