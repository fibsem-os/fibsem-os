{
 "cells": [
  {
   "cell_type": "markdown",
   "id": "d095f246",
   "metadata": {},
   "source": [
    "## Integrated FM Control"
   ]
  },
  {
   "cell_type": "code",
   "execution_count": null,
   "id": "de2cc634",
   "metadata": {},
   "outputs": [],
   "source": [
    "%load_ext autoreload\n",
    "%autoreload 2\n",
    "\n",
    "\n",
    "from fibsem import utils\n",
    "from dataclasses import dataclass, field\n",
    "\n",
    "microscope, settings = utils.setup_session()"
   ]
  },
  {
   "cell_type": "code",
   "execution_count": null,
   "id": "1cb22cb6",
   "metadata": {},
   "outputs": [],
   "source": [
    "# Controls\n",
    "# Light Source \n",
    "    # Power\n",
    "    # Exposure Time\n",
    "# Filter Wheel\n",
    "    # Excitation Wavelength\n",
    "    # Emission Wavelength\n",
    "# Objective Lens\n",
    "    # Magnification\n",
    "    # Position\n",
    "    # Move Relative\n",
    "    # Move Absolute\n",
    "# Camera\n",
    "    # Binning\n",
    "    # Gain\n",
    "    # Offset\n",
    "\n",
    "# Tasks\n",
    "# Acquire Image\n",
    "# Acquire Z-Stack\n",
    "# Acquire Overview\n",
    "# Move to Position\n",
    "# Save OME Metadata\n",
    "# Load OME Metadata\n",
    "\n",
    "# TODO:\n",
    "# - tests\n",
    "# \n"
   ]
  },
  {
   "cell_type": "code",
   "execution_count": null,
   "id": "fe5fd087",
   "metadata": {},
   "outputs": [],
   "source": [
    "from typing import Optional\n",
    "from abc import ABC, abstractmethod\n",
    "import numpy as np\n",
    "from typing import List, Tuple, Dict\n",
    "import matplotlib.pyplot as plt\n",
    "from pprint import pprint\n",
    "\n",
    "from fibsem.fm.microscope import FluorescenceMicroscope, Camera, LightSource, ObjectiveLens, FilterSet\n",
    "from fibsem.fm.structures import ChannelSettings, ZParameters\n",
    "from fibsem.fm.acquisition import acquire_channels, acquire_z_stack, run_auto_focus\n",
    "\n",
    "# create microscope \n",
    "fm = FluorescenceMicroscope()\n",
    "objective = ObjectiveLens(parent=fm)\n",
    "filter_set = FilterSet(parent=fm)\n",
    "camera = Camera(parent=fm)\n",
    "light_source = LightSource(parent=fm)\n",
    "fm.objective = objective\n",
    "fm.filter_sets = [filter_set]\n",
    "fm.camera = camera\n",
    "fm.light_source = light_source\n",
    "# OME-standard -> Static instrument configuration vs dynamic image acquisition settings\n",
    "\n",
    "zparams = ZParameters(zmin=-10e-6, zmax=10e-6, zstep=1e-6)\n",
    "\n",
    "ch1 = ChannelSettings(\n",
    "    name=\"Channel-01\", \n",
    "    excitation_wavelength=488.0, \n",
    "    emission_wavelength=520.0, \n",
    "    power=100.0, \n",
    "    exposure_time=200.0, \n",
    "    binning=1,\n",
    ")\n",
    "ch2 = ChannelSettings(\n",
    "    name=\"Channel-02\", \n",
    "    excitation_wavelength=561.0, \n",
    "    emission_wavelength=None, \n",
    "    power=80.0, \n",
    "    exposure_time=150.0,\n",
    "    binning=2,\n",
    ")\n",
    "\n"
   ]
  },
  {
   "cell_type": "code",
   "execution_count": null,
   "id": "1ec3a317",
   "metadata": {},
   "outputs": [],
   "source": [
    "# acquire a single image\n",
    "image = fm.acquire_image(ch1)\n",
    "print(image)\n",
    "print(f\"Acquired image with shape: {image.data.shape} and dtype: {image.data.dtype}\")\n",
    "pprint(image.metadata)\n",
    "plt.imshow(image.data, cmap='gray')\n",
    "plt.title(f\"Acquired Image - {ch1.name}\")\n",
    "plt.colorbar()\n",
    "plt.show()\n",
    "\n"
   ]
  },
  {
   "cell_type": "code",
   "execution_count": null,
   "id": "f3ffe21e",
   "metadata": {},
   "outputs": [],
   "source": [
    "# Acquire images for multiple channels\n",
    "images = acquire_channels(fm, [ch1, ch2])\n",
    "for idx, image in enumerate(images):\n",
    "    print(f\"Image {idx+1} Metadata:\")\n",
    "    md = image.metadata\n",
    "    pprint(md)\n",
    "    print(f\"Image {idx+1} Shape: {image.data.shape}, Dtype: {image.data.dtype}\")\n",
    "    # Optionally display the image\n",
    "    plt.imshow(image.data, cmap='gray')\n",
    "    plt.title(f\"Acquired Image - {md['objective']['magnification']}x\")\n",
    "    plt.colorbar()\n",
    "    plt.show()\n",
    "\n"
   ]
  },
  {
   "cell_type": "code",
   "execution_count": null,
   "id": "78c69048",
   "metadata": {},
   "outputs": [],
   "source": [
    "# Acquire Z-Stack\n",
    "image = acquire_z_stack(fm, ch1, zparams)\n",
    "print(image.data.shape)\n",
    "md = image.metadata\n",
    "\n",
    "img: np.ndarray\n",
    "for idx, img in enumerate(image.data):\n",
    "    print(f\"Z-Stack Image {idx+1} Metadata:\")\n",
    "    # pprint(md[idx])\n",
    "    print(f\"Z-Stack Image {idx+1} Shape: {img.shape}, Dtype: {img.dtype}\")\n",
    "    # Optionally display the image\n",
    "    plt.imshow(img, cmap='gray')\n",
    "    plt.title(f\"Z-Stack Image - Z Position: {md['objective']['position']:.2e} microns\")\n",
    "    plt.colorbar()\n",
    "    plt.show()\n"
   ]
  },
  {
   "cell_type": "code",
   "execution_count": null,
   "id": "e2625ac7",
   "metadata": {},
   "outputs": [],
   "source": [
    "# Run autofocus\n",
    "fm.objective.move_absolute(0.0)  # Reset objective position to 0\n",
    "best_focus = run_auto_focus(fm, ch1)\n",
    "print(f\"Best focus position: {best_focus:.2e} microns\")"
   ]
  },
  {
   "cell_type": "code",
   "execution_count": null,
   "id": "9742566a",
   "metadata": {},
   "outputs": [],
   "source": []
  }
 ],
 "metadata": {
  "kernelspec": {
   "display_name": "fibsem",
   "language": "python",
   "name": "python3"
  },
  "language_info": {
   "codemirror_mode": {
    "name": "ipython",
    "version": 3
   },
   "file_extension": ".py",
   "mimetype": "text/x-python",
   "name": "python",
   "nbconvert_exporter": "python",
   "pygments_lexer": "ipython3",
   "version": "3.9.18"
  }
 },
 "nbformat": 4,
 "nbformat_minor": 5
}
