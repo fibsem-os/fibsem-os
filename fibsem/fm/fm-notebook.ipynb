{
 "cells": [
  {
   "cell_type": "markdown",
   "id": "d095f246",
   "metadata": {},
   "source": [
    "## Integrated FM Control"
   ]
  },
  {
   "cell_type": "code",
   "execution_count": null,
   "id": "de2cc634",
   "metadata": {},
   "outputs": [],
   "source": [
    "%load_ext autoreload\n",
    "%autoreload 2\n",
    "\n",
    "\n",
    "from fibsem import utils\n",
    "from dataclasses import dataclass, field\n",
    "\n",
    "microscope, settings = utils.setup_session()"
   ]
  },
  {
   "cell_type": "code",
   "execution_count": null,
   "id": "1cb22cb6",
   "metadata": {},
   "outputs": [],
   "source": [
    "# Controls\n",
    "# Light Source \n",
    "    # Power\n",
    "    # Exposure Time\n",
    "# Filter Wheel\n",
    "    # Excitation Wavelength\n",
    "    # Emission Wavelength\n",
    "# Objective Lens\n",
    "    # Magnification\n",
    "    # Position\n",
    "    # Move Relative\n",
    "    # Move Absolute\n",
    "# Camera\n",
    "    # Binning\n",
    "    # Gain\n",
    "    # Offset\n",
    "\n",
    "# Tasks\n",
    "# Acquire Image\n",
    "# Acquire Z-Stack\n",
    "# Acquire Overview\n",
    "# Move to Position\n",
    "# Save OME Metadata\n",
    "# Load OME Metadata\n",
    "\n",
    "# TODO:\n",
    "# - tests\n",
    "# \n"
   ]
  },
  {
   "cell_type": "code",
   "execution_count": null,
   "id": "fe5fd087",
   "metadata": {},
   "outputs": [],
   "source": [
    "from typing import Optional\n",
    "from abc import ABC, abstractmethod\n",
    "import numpy as np\n",
    "from typing import List, Tuple, Dict\n",
    "import matplotlib.pyplot as plt\n",
    "from pprint import pprint\n",
    "\n",
    "from fibsem.fm.microscope import FluorescenceMicroscope, Camera, LightSource, ObjectiveLens, FilterSet\n",
    "from fibsem.fm.structures import ChannelSettings, ZParameters\n",
    "from fibsem.fm.acquisition import acquire_channels, acquire_z_stack, run_auto_focus\n",
    "\n",
    "# create microscope \n",
    "fm = FluorescenceMicroscope()\n",
    "objective = ObjectiveLens(parent=fm)\n",
    "filter_set = FilterSet(parent=fm)\n",
    "camera = Camera(parent=fm)\n",
    "light_source = LightSource(parent=fm)\n",
    "fm.objective = objective\n",
    "fm.filter_set = filter_set\n",
    "fm.camera = camera\n",
    "fm.light_source = light_source\n",
    "# OME-standard -> Static instrument configuration vs dynamic image acquisition settings\n",
    "\n",
    "zparams = ZParameters(zmin=-10e-6, zmax=10e-6, zstep=1e-6)\n",
    "\n",
    "ch1 = ChannelSettings(\n",
    "    name=\"Channel-01\", \n",
    "    excitation_wavelength=488.0, \n",
    "    emission_wavelength=520.0, \n",
    "    power=100.0, \n",
    "    exposure_time=200.0, \n",
    "    binning=1,\n",
    ")\n",
    "ch2 = ChannelSettings(\n",
    "    name=\"Channel-02\", \n",
    "    excitation_wavelength=561.0, \n",
    "    emission_wavelength=None, \n",
    "    power=80.0, \n",
    "    exposure_time=150.0,\n",
    "    binning=2,\n",
    ")\n",
    "\n"
   ]
  },
  {
   "cell_type": "code",
   "execution_count": null,
   "id": "1ec3a317",
   "metadata": {},
   "outputs": [],
   "source": [
    "# acquire a single image\n",
    "image = fm.acquire_image(ch1)\n",
    "print(image)\n",
    "print(f\"Acquired image with shape: {image.data.shape} and dtype: {image.data.dtype}\")\n",
    "pprint(image.metadata)\n",
    "plt.imshow(image.data, cmap='gray')\n",
    "plt.title(f\"Acquired Image - {ch1.name}\")\n",
    "plt.colorbar()\n",
    "plt.show()\n",
    "\n"
   ]
  },
  {
   "cell_type": "code",
   "execution_count": null,
   "id": "f3ffe21e",
   "metadata": {},
   "outputs": [],
   "source": [
    "# Acquire images for multiple channels\n",
    "images = acquire_channels(fm, [ch1, ch2])\n",
    "for idx, image in enumerate(images):\n",
    "    print(f\"Image {idx+1} Metadata:\")\n",
    "    md = image.metadata\n",
    "    pprint(md)\n",
    "    print(f\"Image {idx+1} Shape: {image.data.shape}, Dtype: {image.data.dtype}\")\n",
    "    # Optionally display the image\n",
    "    plt.imshow(image.data, cmap='gray')\n",
    "    plt.title(f\"Acquired Image - {md['objective']['magnification']}x\")\n",
    "    plt.colorbar()\n",
    "    plt.show()\n",
    "\n"
   ]
  },
  {
   "cell_type": "code",
   "execution_count": null,
   "id": "78c69048",
   "metadata": {},
   "outputs": [],
   "source": [
    "# Acquire Z-Stack\n",
    "\n",
    "fm.objective.move_absolute(0.0)  # Move objective to the starting position\n",
    "image = acquire_z_stack(fm, ch1, zparams)\n",
    "print(image[0].data.shape)\n",
    "md = image[0].metadata\n",
    "\n",
    "img: np.ndarray\n",
    "for idx, img in enumerate(image[0].data):\n",
    "    print(f\"Z-Stack Image {idx+1} Metadata:\")\n",
    "    # pprint(md[idx])\n",
    "    print(f\"Z-Stack Image {idx+1} Shape: {img.shape}, Dtype: {img.dtype}\")\n",
    "    # Optionally display the image\n",
    "    plt.imshow(img, cmap='gray')\n",
    "    plt.title(f\"Z-Stack Image - Z Position: {md['objective']['position']:.2e} microns\")\n",
    "    plt.colorbar()\n",
    "    plt.show()\n"
   ]
  },
  {
   "cell_type": "code",
   "execution_count": null,
   "id": "e2625ac7",
   "metadata": {},
   "outputs": [],
   "source": [
    "# Run autofocus\n",
    "fm.objective.move_absolute(0.0)  # Reset objective position to 0\n",
    "best_focus = run_auto_focus(fm, ch1)\n",
    "print(f\"Best focus position: {best_focus:.2e} microns\")"
   ]
  },
  {
   "cell_type": "markdown",
   "id": "3ebc3e00",
   "metadata": {},
   "source": [
    "## Odemis FM Control"
   ]
  },
  {
   "cell_type": "code",
   "execution_count": null,
   "id": "8bb8ce11",
   "metadata": {},
   "outputs": [],
   "source": [
    "%load_ext autoreload\n",
    "%autoreload 2\n",
    "\n",
    "import fibsem.fm.odemis as fm_odemis\n",
    "from odemis import model\n",
    "\n",
    "focuser = fm_odemis.model.getComponent(role=\"focus\")\n",
    "\n",
    "print(focuser.position.value)\n",
    "print(focuser.getMetadata())\n"
   ]
  },
  {
   "cell_type": "code",
   "execution_count": null,
   "id": "e4de8b07",
   "metadata": {},
   "outputs": [],
   "source": [
    "objective = fm_odemis.OdemisObjectiveLens(None)\n",
    "\n",
    "print(objective.position)\n",
    "print(objective.magnification)\n",
    "print(objective.numerical_aperture)"
   ]
  },
  {
   "cell_type": "code",
   "execution_count": null,
   "id": "e910b5b8",
   "metadata": {},
   "outputs": [],
   "source": [
    "objective.insert()\n",
    "print(objective.position)\n",
    "objective.retract()\n",
    "print(objective.position)"
   ]
  },
  {
   "cell_type": "code",
   "execution_count": null,
   "id": "dc62d8b7",
   "metadata": {},
   "outputs": [],
   "source": [
    "odemis_light_source = model.getComponent(role=\"light\")\n",
    "print(odemis_light_source.power.value)\n",
    "print(\"SPECTRA\")\n",
    "print(odemis_light_source.spectra.value) # 5D (99% low, 25% low, centre, 25%high 99% high) x wavelengths"
   ]
  },
  {
   "cell_type": "code",
   "execution_count": null,
   "id": "b1cb80a8",
   "metadata": {},
   "outputs": [],
   "source": [
    "fm = fm_odemis.OdemisFluorescenceMicroscope(None)\n",
    "\n",
    "# set filter wheel\n",
    "fm.filter_set.emission_wavelength = 488e-9\n",
    "print(fm.filter_set.emission_wavelength)\n",
    "\n",
    "# reflection mode\n",
    "fm.filter_set.emission_wavelength = None\n",
    "print(fm.filter_set.emission_wavelength)"
   ]
  },
  {
   "cell_type": "code",
   "execution_count": null,
   "id": "92a4b72d",
   "metadata": {},
   "outputs": [],
   "source": [
    "from fibsem.fm.structures import ChannelSettings\n",
    "from pprint import pprint\n",
    "\n",
    "\n",
    "ch = ChannelSettings(name=\"channel-01\", \n",
    "                     excitation_wavelength=405e-9, \n",
    "                     emission_wavelength=None, \n",
    "                     exposure_time=0.5, \n",
    "                     power=0.5, # W \n",
    "                     binning=4)\n",
    "\n",
    "fm.set_binning(2)\n",
    "fm.set_power(0.8)\n",
    "\n",
    "image = fm.acquire_image(None)\n",
    "\n",
    "pprint(image.data.shape)\n",
    "pprint(image.metadata)"
   ]
  },
  {
   "cell_type": "code",
   "execution_count": null,
   "id": "90c60a88",
   "metadata": {},
   "outputs": [],
   "source": [
    "%matplotlib inline\n",
    "\n",
    "import matplotlib.pyplot as plt\n",
    "from pprint import pprint\n",
    "plt.imshow(image.data, cmap=\"gray\")\n",
    "plt.show()\n",
    "\n",
    "\n",
    "print(image.data.shape)\n",
    "pprint(image.metadata)\n",
    "pprint(fm.get_metadata())"
   ]
  },
  {
   "cell_type": "code",
   "execution_count": null,
   "id": "fbc3b849",
   "metadata": {},
   "outputs": [],
   "source": [
    "from fibsem.fm.acquisition import acquire_channels, acquire_z_stack, run_auto_focus\n",
    "from fibsem.fm.structures import ZParameters\n",
    "zparams = ZParameters(zmin=-10e-6, zmax=10e-6, zstep=1e-6)\n",
    "\n",
    "fm.objective.insert()\n",
    "image = acquire_z_stack(fm, ch, zparams)\n",
    "\n",
    "print(image[0].data.shape)\n",
    "pprint(image[0].metadata)\n"
   ]
  },
  {
   "cell_type": "code",
   "execution_count": null,
   "id": "5bfe6223",
   "metadata": {},
   "outputs": [],
   "source": [
    "ch1 = ChannelSettings(name=\"channel-01\", \n",
    "                     excitation_wavelength=405e-9, \n",
    "                     emission_wavelength=None, \n",
    "                     exposure_time=0.5, \n",
    "                     power=0.5, # W \n",
    "                     binning=1)\n",
    "\n",
    "ch2 = ChannelSettings(name=\"channel-02\",\n",
    "                     excitation_wavelength=488e-9, \n",
    "                     emission_wavelength=500e-9,\n",
    "                     exposure_time=0.1, \n",
    "                     power=0.1, # W \n",
    "                     binning=1)\n",
    "\n",
    "channels = [ch1, ch2]\n",
    "images = acquire_channels(fm, channels)\n",
    "\n",
    "for img in images:\n",
    "    print(img.data.shape)\n",
    "    pprint(img.metadata)\n",
    "    plt.imshow(img.data, cmap=\"gray\")\n",
    "    plt.show()"
   ]
  },
  {
   "cell_type": "code",
   "execution_count": null,
   "id": "30911930",
   "metadata": {},
   "outputs": [],
   "source": [
    "# images = acquire_z_stack(fm, ch1, zparams)\n",
    "# print(images[0].data.shape)\n",
    "\n",
    "images = acquire_z_stack(fm, channels, zparams)\n",
    "\n",
    "print(len(images))\n",
    "print(images[0].data.shape)"
   ]
  },
  {
   "cell_type": "code",
   "execution_count": null,
   "id": "1cf9c2c6",
   "metadata": {},
   "outputs": [],
   "source": [
    "for img in images:\n",
    "    print(img.data.shape)\n",
    "    pprint(img.metadata)\n",
    "    # plt.imshow(img.data, cmap=\"gray\")\n",
    "    # plt.show()"
   ]
  }
 ],
 "metadata": {
  "kernelspec": {
   "display_name": "fibsem",
   "language": "python",
   "name": "python3"
  },
  "language_info": {
   "codemirror_mode": {
    "name": "ipython",
    "version": 3
   },
   "file_extension": ".py",
   "mimetype": "text/x-python",
   "name": "python",
   "nbconvert_exporter": "python",
   "pygments_lexer": "ipython3",
   "version": "3.9.20"
  }
 },
 "nbformat": 4,
 "nbformat_minor": 5
}
