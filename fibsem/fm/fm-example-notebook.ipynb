{
 "cells": [
  {
   "cell_type": "markdown",
   "id": "5e826d56",
   "metadata": {},
   "source": [
    "## FM Acquisition Example"
   ]
  },
  {
   "cell_type": "code",
   "execution_count": null,
   "id": "df946f60",
   "metadata": {},
   "outputs": [],
   "source": [
    "%load_ext autoreload\n",
    "%autoreload 2\n",
    "\n",
    "import numpy as np\n",
    "import matplotlib.pyplot as plt\n",
    "from pprint import pprint\n",
    "from fibsem.fm.structures import ChannelSettings, ZParameters, FluorescenceImage\n",
    "from fibsem.fm.acquisition import acquire_channels, acquire_z_stack\n",
    "from fibsem.fm.calibration import run_autofocus, run_coarse_fine_autofocus, run_multi_position_autofocus\n",
    "\n",
    "from fibsem.fm.microscope import FluorescenceMicroscope\n",
    "# other microscopes can be imported as needed\n",
    "# from fibsem.fm.thermo_fisher import ThermoFisherFluorescenceMicroscope\n",
    "# from fibsem.fm.odemis import OdemisFluorescenceMicroscope # -> NOTE: only works on odemis pc\n",
    "\n",
    "# create microscope \n",
    "fm = FluorescenceMicroscope()\n",
    "# fm = OdemisFluorescenceMicroscope(None)"
   ]
  },
  {
   "cell_type": "code",
   "execution_count": null,
   "id": "0aacf5d0",
   "metadata": {},
   "outputs": [],
   "source": [
    "# parameters\n",
    "print(\"Camera\")\n",
    "print(f\"Exposure time: {fm.camera.exposure_time} s\")\n",
    "print(f\"Pixel size: {fm.camera.pixel_size} um\")\n",
    "print(f\"Resolution: {fm.camera.resolution} px\")\n",
    "\n",
    "print(\"Filter Wheel\")\n",
    "print(f\"Excitation wavelength: {fm.filter_set.excitation_wavelength} nm\")\n",
    "print(f\"Available excitation wavelengths: {fm.filter_set.available_excitation_wavelengths}\")\n",
    "print(f\"Emission wavelength: {fm.filter_set.emission_wavelength} nm\")\n",
    "print(f\"Available emission wavelengths: {fm.filter_set.available_emission_wavelengths}\")\n",
    "\n",
    "print(\"Light Source\")\n",
    "print(f\"Power: {fm.light_source.power} W\")"
   ]
  },
  {
   "cell_type": "code",
   "execution_count": null,
   "id": "f9235837",
   "metadata": {},
   "outputs": [],
   "source": [
    "# Channel settings \n",
    "channel_settings = ChannelSettings(\n",
    "    name=\"Channel-01\", \n",
    "    excitation_wavelength=405, \n",
    "    emission_wavelength=None,  # None -> reflection \n",
    "    exposure_time=0.1, \n",
    "    power=0.2)\n",
    "\n",
    "# set the channel settings\n",
    "fm.set_channel(channel_settings)\n",
    "\n",
    "# also can be set indiviudally\n",
    "fm.camera.exposure_time = 0.1"
   ]
  },
  {
   "cell_type": "code",
   "execution_count": null,
   "id": "3d65f1eb",
   "metadata": {},
   "outputs": [],
   "source": [
    "# QUERY: what is the best way to set emission wavelength?\n",
    "# TFS: has mutlti-filter so you only set FLUORESCENCE/REFLECTION\n",
    "# Odemis: has single filter so you set excitation and emission wavelength\n",
    "\n",
    "# in practice, you'd always set the emission based on the excitation wavelength, so \n",
    "# is  it worth having a separate emission wavelength setting? aside from FL/REFLECTION\n"
   ]
  },
  {
   "cell_type": "markdown",
   "id": "1f98831a",
   "metadata": {},
   "source": [
    "#### Objective Controls"
   ]
  },
  {
   "cell_type": "code",
   "execution_count": null,
   "id": "166c4391",
   "metadata": {},
   "outputs": [],
   "source": [
    "# insert objective\n",
    "fm.objective.insert()"
   ]
  },
  {
   "cell_type": "code",
   "execution_count": null,
   "id": "122fff10",
   "metadata": {},
   "outputs": [],
   "source": [
    "# objective (lens) control\n",
    "print(f\"Objective Position: {fm.objective.position}\")"
   ]
  },
  {
   "cell_type": "code",
   "execution_count": null,
   "id": "eebb1b13",
   "metadata": {},
   "outputs": [],
   "source": [
    "# move relative\n",
    "print(f\"Objective Position: {fm.objective.position}\")\n",
    "fm.objective.move_relative(10e-6)  # move 10 microns\n",
    "print(f\"Objective Position: {fm.objective.position}\")"
   ]
  },
  {
   "cell_type": "code",
   "execution_count": null,
   "id": "8328da58",
   "metadata": {},
   "outputs": [],
   "source": [
    "# move absolute\n",
    "# fm.objective.move_absolute(0)\n",
    "print(f\"Objective Position: {fm.objective.position}\")"
   ]
  },
  {
   "cell_type": "code",
   "execution_count": null,
   "id": "6d37fa15",
   "metadata": {},
   "outputs": [],
   "source": [
    "# retract objective\n",
    "fm.objective.retract()"
   ]
  },
  {
   "cell_type": "markdown",
   "id": "244d9d2b",
   "metadata": {},
   "source": [
    "#### Image Acquisition"
   ]
  },
  {
   "cell_type": "code",
   "execution_count": null,
   "id": "bf852733",
   "metadata": {},
   "outputs": [],
   "source": [
    "# single channel acquisition, uses the current microscope settings\n",
    "image = fm.acquire_image()\n",
    "\n",
    "# 2D Image (YX)\n",
    "print(f\"Image Shape: {image.data.shape}\")\n",
    "\n",
    "plt.imshow(image.data, cmap='gray')\n",
    "plt.title(image.metadata.channels[0].name)\n",
    "plt.show()\n"
   ]
  },
  {
   "cell_type": "code",
   "execution_count": null,
   "id": "076fa66d",
   "metadata": {},
   "outputs": [],
   "source": [
    "image.metadata.pixel_size_x"
   ]
  },
  {
   "cell_type": "code",
   "execution_count": null,
   "id": "da6d247d",
   "metadata": {},
   "outputs": [],
   "source": [
    "# metadata\n",
    "print(\"Image Metadata:\")\n",
    "pprint(image.metadata.to_dict())\n",
    "\n",
    "\n",
    "# metadata: FluorescenceImageMetadata\n",
    "#     channels: List[FluorescenceChannelMetadata]"
   ]
  },
  {
   "cell_type": "code",
   "execution_count": null,
   "id": "a2b67a06",
   "metadata": {},
   "outputs": [],
   "source": [
    "# save image (ome-tiff format)\n",
    "filename = \"test-image.ome.tiff\"\n",
    "image.save(filename)\n",
    "\n",
    "# load image\n",
    "loaded_image = FluorescenceImage.load(filename) # always loaded as CZYX\n",
    "\n",
    "# plot loaded image\n",
    "plt.imshow(loaded_image.data[0, 0], cmap='gray')\n",
    "plt.title(loaded_image.metadata.channels[0].name)\n",
    "plt.show()"
   ]
  },
  {
   "cell_type": "code",
   "execution_count": null,
   "id": "0bc99e5f",
   "metadata": {},
   "outputs": [],
   "source": [
    "# multi-channel acquisition\n",
    "channel_settings = [\n",
    "    ChannelSettings(\n",
    "        name=\"Channel-01\",\n",
    "        excitation_wavelength=405,\n",
    "        emission_wavelength=None,\n",
    "        exposure_time=0.1,\n",
    "        power=0.2),\n",
    "    ChannelSettings(\n",
    "        name=\"Channel-02\",\n",
    "        excitation_wavelength=405,\n",
    "        emission_wavelength=405,\n",
    "        exposure_time=0.2,\n",
    "        power=0.4)\n",
    "]\n",
    "\n",
    "image = acquire_channels(fm, channel_settings)\n",
    "\n",
    "# 4D Image (CZYX)\n",
    "print(f\"Image Shape: {image.data.shape}\")\n",
    "\n",
    "fig, axes = plt.subplots(1, 2, figsize=(10, 5))\n",
    "axes[0].imshow(image.data[0, 0, :, :], cmap='gray')\n",
    "axes[0].set_title(image.metadata.channels[0].name)\n",
    "axes[1].imshow(image.data[1, 0, :, :], cmap='gray')\n",
    "axes[1].set_title(image.metadata.channels[1].name)\n",
    "\n",
    "plt.show()"
   ]
  },
  {
   "cell_type": "code",
   "execution_count": null,
   "id": "7eee01cf",
   "metadata": {},
   "outputs": [],
   "source": [
    "# generate z-parameters (objective positions)\n",
    "zparams = ZParameters(zmin=-2e-6, zmax=2e-6, zstep=1e-6)\n",
    "\n",
    "zpositions = zparams.generate_positions(z_init=fm.objective.position)\n",
    "print(f\"Z-Positions: {zpositions}\")"
   ]
  },
  {
   "cell_type": "code",
   "execution_count": null,
   "id": "b5605ecc",
   "metadata": {},
   "outputs": [],
   "source": [
    "# acquire a z-stack\n",
    "# NOTE: make sure the objective is inserted and in a safe position\n",
    "image  = acquire_z_stack(fm, channel_settings, zparams)\n",
    "\n",
    "# 4D Image (CZXY)\n",
    "print(f\"Image Shape: {image.data.shape}\")\n",
    "\n",
    "# plot the maximum intensity projection for each channel\n",
    "fig, axes = plt.subplots(1, 2, figsize=(10, 5))\n",
    "axes[0].imshow(np.max(image.data[0, :, :, :], axis=0), cmap='gray')\n",
    "axes[0].set_title(image.metadata.channels[0].name)\n",
    "axes[1].imshow(np.max(image.data[1, :, :, :], axis=0), cmap='gray')\n",
    "axes[1].set_title(image.metadata.channels[1].name)\n",
    "\n",
    "plt.show()"
   ]
  },
  {
   "cell_type": "code",
   "execution_count": null,
   "id": "6f926571",
   "metadata": {},
   "outputs": [],
   "source": [
    "mip = image.max_intensity_projection(channel=1, return_2d=True)\n",
    "plt.imshow(mip, cmap='gray')\n",
    "plt.title(\"Maximum Intensity Projection\")\n",
    "plt.show()"
   ]
  },
  {
   "cell_type": "code",
   "execution_count": null,
   "id": "8afb7aae",
   "metadata": {},
   "outputs": [],
   "source": [
    "focus_stack = image.focus_stack()\n",
    "\n",
    "print(f\"Focus Stack Shape: {focus_stack.data.shape}\")\n",
    "\n",
    "# plot the focus stack\n",
    "fig, axes = plt.subplots(1, 2, figsize=(10, 5))\n",
    "axes[0].imshow(focus_stack.data[0, 0, :, :], cmap='gray')\n",
    "axes[0].set_title(focus_stack.metadata.channels[0].name)\n",
    "axes[1].imshow(focus_stack.data[1, 0, :, :], cmap='gray')\n",
    "axes[1].set_title(focus_stack.metadata.channels[1].name)\n",
    "plt.show()\n"
   ]
  },
  {
   "cell_type": "markdown",
   "id": "a70e549c",
   "metadata": {},
   "source": [
    "#### Live Acquisition"
   ]
  },
  {
   "cell_type": "code",
   "execution_count": null,
   "id": "dabc56c9",
   "metadata": {},
   "outputs": [],
   "source": [
    "import time\n",
    "\n",
    "def on_acquisition_signal(image: FluorescenceImage):\n",
    "    print(\"Acquisition signal received!\")\n",
    "    print(f\"Image shape: {image.data.shape}\")\n",
    "    print(f\"Acquisition Date: {image.metadata.acquisition_date}\")\n",
    "    print(f\"Channel Name: {image.metadata.channels[0].name}\")\n",
    "    print(f\"Excitation Power: {image.metadata.channels[0].power} W\")\n",
    "    print(f\"Exposure Time: {image.metadata.channels[0].exposure_time} s\")\n",
    "    print(f\"Excitation Wavelength: {image.metadata.channels[0].excitation_wavelength} nm\")\n",
    "    print(f\"Emission Wavelength: {image.metadata.channels[0].emission_wavelength} nm\")\n",
    "    print(f\"Objective Magnification: {image.metadata.channels[0].objective_magnification}x\")\n",
    "    print(f\"Objective Position: {image.metadata.channels[0].objective_position:.2e} m\")\n",
    "    print(f\"Image Data Type: {image.data.dtype}\")\n",
    "    print(\"-\"*80)\n",
    "    # plt.imshow(image.data, cmap='gray')\n",
    "    # plt.show()\n",
    "\n",
    "# acquisition emits a FluorescenceImage signal once image is acquire, can be subscribed to\n",
    "fm.acquisition_signal.disconnect() # disconnect any previous connections\n",
    "fm.acquisition_signal.connect(on_acquisition_signal)\n",
    "\n",
    "fm.set_exposure_time(0.5)"
   ]
  },
  {
   "cell_type": "code",
   "execution_count": null,
   "id": "2a8531ef",
   "metadata": {},
   "outputs": [],
   "source": [
    "# start the acquisition\n",
    "fm.start_acquisition()\n",
    "\n",
    "time.sleep(5)\n",
    "\n",
    "# stop acquisition\n",
    "fm.stop_acquisition()"
   ]
  },
  {
   "cell_type": "markdown",
   "id": "48ae72fd",
   "metadata": {},
   "source": [
    "#### AutoFocus"
   ]
  },
  {
   "cell_type": "code",
   "execution_count": null,
   "id": "00f49b53",
   "metadata": {},
   "outputs": [],
   "source": [
    "# NOTE: make sure the objective is inserted, and safe before running autofocus\n",
    "image1 = acquire_channels(fm, channel_settings)\n",
    "\n",
    "best_focus_position = run_autofocus(fm)\n",
    "print(f\"Best Focus Position: {best_focus_position}\")\n",
    "\n",
    "image2 = acquire_channels(fm, channel_settings)\n",
    "\n",
    "# plot the acquired images\n",
    "fig, axes = plt.subplots(1, 2, figsize=(10, 5))\n",
    "axes[0].imshow(image1.data[0, 0, :, :], cmap='gray')\n",
    "axes[0].set_title(image1.metadata.channels[0].name)\n",
    "axes[1].imshow(image2.data[0, 0, :, :], cmap='gray')\n",
    "axes[1].set_title(image2.metadata.channels[0].name)\n",
    "\n",
    "plt.show()"
   ]
  },
  {
   "cell_type": "code",
   "execution_count": null,
   "id": "b9ed368c",
   "metadata": {},
   "outputs": [],
   "source": [
    "# NOTE: make sure the objective is inserted, and safe before running autofocus\n",
    "image1 = acquire_channels(fm, channel_settings)\n",
    "\n",
    "best_focus_position = run_coarse_fine_autofocus(fm)\n",
    "print(f\"Best Focus Position: {best_focus_position}\")\n",
    "\n",
    "image2 = acquire_channels(fm, channel_settings)\n",
    "\n",
    "# plot the acquired images\n",
    "fig, axes = plt.subplots(1, 2, figsize=(10, 5))\n",
    "axes[0].imshow(image1.data[0, 0, :, :], cmap='gray')\n",
    "axes[0].set_title(image1.metadata.channels[0].name)\n",
    "axes[1].imshow(image2.data[0, 0, :, :], cmap='gray')\n",
    "axes[1].set_title(image2.metadata.channels[0].name)\n",
    "\n",
    "plt.show()"
   ]
  },
  {
   "cell_type": "code",
   "execution_count": null,
   "id": "ed475b16",
   "metadata": {},
   "outputs": [],
   "source": [
    "# requires integrated fibsem/fm microscope\n",
    "from fibsem import utils\n",
    "from fibsem.structures import BeamType\n",
    "microscope, settings = utils.setup_session()\n",
    "\n",
    "\n",
    "# create some test positions (project-stable-move)\n",
    "current_position = microscope.get_stage_position()\n",
    "stages_positions = [\n",
    "    microscope.project_stable_move(dx=-50e-6, dy=-50e-6, beam_type=BeamType.ELECTRON, base_position=current_position),\n",
    "    microscope.project_stable_move(dx=50e-6, dy=-50e-6, beam_type=BeamType.ELECTRON, base_position=current_position),\n",
    "    microscope.project_stable_move(dx=0, dy=0, beam_type=BeamType.ELECTRON, base_position=current_position),\n",
    "    microscope.project_stable_move(dx=-50e-6, dy=50e-6, beam_type=BeamType.ELECTRON, base_position=current_position),\n",
    "    microscope.project_stable_move(dx=50e-6, dy=50e-6, beam_type=BeamType.ELECTRON, base_position=current_position),\n",
    "]\n",
    "\n",
    "# set names for the positions\n",
    "stages_positions[0].name = \"top-left\"\n",
    "stages_positions[1].name = \"top-right\"\n",
    "stages_positions[2].name = \"center\"\n",
    "stages_positions[3].name = \"bottom-left\"\n",
    "stages_positions[4].name = \"bottom-right\"\n",
    "\n",
    "# run multi-position autofocus\n",
    "# focus_map = run_multi_position_autofocus(microscope, stages_positions, return_to_start=True)\n",
    "\n"
   ]
  },
  {
   "cell_type": "markdown",
   "id": "85112d72",
   "metadata": {},
   "source": [
    "#### Move to Microscope\n",
    "Note: Need to take pre-caution when running this as it will insert the objective\n"
   ]
  },
  {
   "cell_type": "code",
   "execution_count": null,
   "id": "97e73bf1",
   "metadata": {},
   "outputs": [],
   "source": [
    "# requires integrated fibsem/fm microscope\n",
    "from fibsem import utils\n",
    "from fibsem.structures import BeamType\n",
    "microscope, settings = utils.setup_session()\n"
   ]
  },
  {
   "cell_type": "code",
   "execution_count": null,
   "id": "21743757",
   "metadata": {},
   "outputs": [],
   "source": [
    "# current orientation\n",
    "orientation = microscope.get_stage_orientation()\n",
    "print(f\"Current Orientation: {orientation}\")\n",
    "\n",
    "if orientation != \"FIB\":\n",
    "    microscope.move_flat_to_beam(BeamType.ION)"
   ]
  },
  {
   "cell_type": "code",
   "execution_count": null,
   "id": "fac3d324",
   "metadata": {},
   "outputs": [],
   "source": [
    "microscope.move_to_microscope(\"FIBSEM\")\n",
    "\n",
    "print(f\"Moved to FM orientation: {microscope.get_stage_orientation()}\")"
   ]
  },
  {
   "cell_type": "code",
   "execution_count": null,
   "id": "eac6d869",
   "metadata": {},
   "outputs": [],
   "source": [
    "print(microscope.get_stage_position())"
   ]
  },
  {
   "cell_type": "code",
   "execution_count": null,
   "id": "ea4c5e0b",
   "metadata": {},
   "outputs": [],
   "source": []
  },
  {
   "cell_type": "markdown",
   "id": "745bb720",
   "metadata": {},
   "source": [
    "#### Focus Stacking"
   ]
  },
  {
   "cell_type": "code",
   "execution_count": null,
   "id": "88640524",
   "metadata": {},
   "outputs": [],
   "source": [
    "from fibsem.fm.calibration import create_block_based_focus_stack, create_pixel_based_focus_stack\n",
    "import tifffile as tff\n",
    "import matplotlib.pyplot as plt\n",
    "import numpy as np\n",
    "\n",
    "PATH = \"/home/patrick/github/3DCT/3D_correlation_test_dataset/test-image2.ome.tiff\"\n",
    "\n",
    "image = tff.imread(PATH)\n",
    "print(f\"Image Shape: {image.shape}\")\n",
    "\n",
    "for i in range(image.shape[0]):\n",
    "    print(f\"Channel {i}: Shape {image[i].shape}\")\n",
    "    channel_data = image[i]\n",
    "    stacked_image = create_block_based_focus_stack(channel_data, method='tenengrad', block_size=256, smooth_transitions=True)\n",
    "    pixel_stacked_image = create_pixel_based_focus_stack(channel_data, method='tenengrad')\n",
    "    fig, ax = plt.subplots(ncols=3, figsize=(15, 10))\n",
    "    ax[0].imshow(np.max(channel_data, axis=0), cmap='gray')\n",
    "    ax[0].set_title(\"Maximum Intensity Projection\")\n",
    "    ax[1].imshow(stacked_image, cmap='gray')\n",
    "    ax[1].set_title(\"Focus Stack Projection\")\n",
    "    ax[2].imshow(pixel_stacked_image, cmap='gray')\n",
    "    ax[2].set_title(\"Pixel-Based Focus Stack Projection\")\n",
    "\n",
    "    plt.tight_layout()\n",
    "    plt.show()\n"
   ]
  },
  {
   "cell_type": "code",
   "execution_count": null,
   "id": "fe176693",
   "metadata": {},
   "outputs": [],
   "source": []
  }
 ],
 "metadata": {
  "kernelspec": {
   "display_name": "fibsem",
   "language": "python",
   "name": "python3"
  },
  "language_info": {
   "codemirror_mode": {
    "name": "ipython",
    "version": 3
   },
   "file_extension": ".py",
   "mimetype": "text/x-python",
   "name": "python",
   "nbconvert_exporter": "python",
   "pygments_lexer": "ipython3",
   "version": "3.9.18"
  }
 },
 "nbformat": 4,
 "nbformat_minor": 5
}
